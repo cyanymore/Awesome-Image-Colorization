{
 "cells": [
  {
   "cell_type": "code",
   "execution_count": null,
   "metadata": {
    "id": "Ya8PpJPwwA-P"
   },
   "outputs": [],
   "source": [
    "# from google.colab import drive\n",
    "# drive.mount('/content/gdrive')"
   ]
  },
  {
   "cell_type": "code",
   "execution_count": null,
   "metadata": {
    "id": "vNuFdW1qpw_v"
   },
   "outputs": [],
   "source": [
    "import os\n",
    "import re\n",
    "import sys\n",
    "import cv2\n",
    "import tqdm\n",
    "import time\n",
    "import spacy \n",
    "import random\n",
    "import scipy.io\n",
    "import itertools\n",
    "import numpy as np\n",
    "from math import ceil\n",
    "import pandas as pd\n",
    "from itertools import chain\n",
    "import matplotlib.pyplot as plt\n",
    "from skimage.io import imread\n",
    "from skimage import color\n",
    "from scipy.ndimage.filters import gaussian_filter\n",
    "from sklearn.model_selection import train_test_split\n",
    "from skimage.transform import rescale, resize, downscale_local_mean"
   ]
  },
  {
   "cell_type": "code",
   "execution_count": null,
   "metadata": {
    "id": "3noUOCTsuYoJ"
   },
   "outputs": [],
   "source": [
    "import torch\n",
    "from torch.nn.utils.rnn import pad_sequence \n",
    "import torchvision.transforms as transforms\n",
    "import json\n",
    "import torch\n",
    "import torchvision.transforms as T\n",
    "import torch.nn as nn\n",
    "import torchvision.models as models\n",
    "from torch.utils.data import DataLoader\n",
    "from tqdm import tqdm\n",
    "import torch.nn as nn\n",
    "import torch.optim as optim\n",
    "from torch.utils.tensorboard import SummaryWriter"
   ]
  },
  {
   "cell_type": "code",
   "execution_count": null,
   "metadata": {
    "colab": {
     "base_uri": "https://localhost:8080/"
    },
    "executionInfo": {
     "elapsed": 436,
     "status": "ok",
     "timestamp": 1627225894387,
     "user": {
      "displayName": "Ali Elahi",
      "photoUrl": "",
      "userId": "03558162535100997408"
     },
     "user_tz": -270
    },
    "id": "c75r0RhFrYVu",
    "outputId": "8679df52-84f7-4f1b-8bff-4ac1f6eaa036"
   },
   "outputs": [
    {
     "name": "stdout",
     "output_type": "stream",
     "text": [
      "Downloading the COCO dataset ...\n",
      "--2021-07-25 15:11:33--  http://images.cocodataset.org/zips/train2017.zip\n",
      "Resolving images.cocodataset.org (images.cocodataset.org)... ^C\n"
     ]
    }
   ],
   "source": [
    "print('Downloading the COCO dataset ....')\n",
    "!wget http://images.cocodataset.org/zips/train2017.zip"
   ]
  },
  {
   "cell_type": "code",
   "execution_count": null,
   "metadata": {
    "colab": {
     "base_uri": "https://localhost:8080/"
    },
    "executionInfo": {
     "elapsed": 12,
     "status": "ok",
     "timestamp": 1627225894388,
     "user": {
      "displayName": "Ali Elahi",
      "photoUrl": "",
      "userId": "03558162535100997408"
     },
     "user_tz": -270
    },
    "id": "0edcpSuIrJVE",
    "outputId": "72937dd6-ccfc-4a79-ef44-ee83723faf60"
   },
   "outputs": [
    {
     "name": "stdout",
     "output_type": "stream",
     "text": [
      "ls: cannot access './gdrive/MyDrive/Deep': No such file or directory\n",
      "sample_data\n"
     ]
    }
   ],
   "source": [
    "!ls ./gdrive/MyDrive/Deep\n",
    "!ls"
   ]
  },
  {
   "cell_type": "code",
   "execution_count": null,
   "metadata": {
    "colab": {
     "base_uri": "https://localhost:8080/"
    },
    "executionInfo": {
     "elapsed": 429,
     "status": "ok",
     "timestamp": 1627225894810,
     "user": {
      "displayName": "Ali Elahi",
      "photoUrl": "",
      "userId": "03558162535100997408"
     },
     "user_tz": -270
    },
    "id": "4GrYmlFzsFt1",
    "outputId": "0f2bfe1e-207c-44b6-ee66-2c1faa93a80e"
   },
   "outputs": [
    {
     "name": "stdout",
     "output_type": "stream",
     "text": [
      "Unzipping the downloaded dataset ...\n",
      "unzip:  cannot find or open ./train2017.zip, ./train2017.zip.zip or ./train2017.zip.ZIP.\n"
     ]
    }
   ],
   "source": [
    "print('Unzipping the downloaded dataset ...')\n",
    "!unzip ./train2017.zip"
   ]
  },
  {
   "cell_type": "code",
   "execution_count": null,
   "metadata": {
    "id": "RTz9rS9RrvRI"
   },
   "outputs": [],
   "source": [
    "class Data_prep():\n",
    "    def __init__(self, DATA_PATH = './train2017/'):\n",
    "        \n",
    "        self.DATA_PATH = DATA_PATH\n",
    "        print('Loading JSON file ....')\n",
    "        f = open('./gdrive/MyDrive/Deep/instances_train2017.json')\n",
    "        data = json.load(f)\n",
    "        \n",
    "        self.cats = {}\n",
    "        for i in data['annotations']:\n",
    "            if i['category_id'] in self.cats.keys():\n",
    "                self.cats[i['category_id']].append(i['image_id'])\n",
    "            else:\n",
    "                self.cats[i['category_id']] = []\n",
    "                self.cats[i['category_id']].append(i['image_id'])\n",
    "\n",
    "        self.image_names = []\n",
    "        self.refrence_names = []\n",
    "        for k in [36, 42, 24, 35]:\n",
    "            print('Loading class #' + str(k))\n",
    "            class_data = []\n",
    "            for i in data['images']:\n",
    "                if i['id'] in self.cats[k]:\n",
    "                    if not i['id'] in ['000000030349.jpg', '000000313608.jpg', '000000312288.jpg', '000000410498.jpg', '000000006379.jpg', '000000176483.jpg', '000000476888.jpg']:\n",
    "                        class_data.append(i['file_name'])\n",
    "            class_data_sorted = sorted(class_data)\n",
    "            for i, j in zip(class_data, class_data_sorted):\n",
    "                if not i in self.image_names:\n",
    "                    self.image_names.append(i)\n",
    "                    self.refrence_names.append(j)\n",
    "        \n",
    "        print('Loading images ...')\n",
    "\n",
    "    def load_data(self):\n",
    "        X_train, X_val, Y_train, Y_val = train_test_split(self.image_names, self.refrence_names, test_size=0.49, random_state=42)\n",
    "        return X_train, X_val, Y_train, Y_val"
   ]
  },
  {
   "cell_type": "code",
   "execution_count": null,
   "metadata": {
    "id": "voj4qFHmGVlY"
   },
   "outputs": [],
   "source": [
    "def load_image(path):\n",
    "    try:\n",
    "        DATA_PATH = './train2017/'\n",
    "        image = resize(imread(DATA_PATH + path), (256, 256))\n",
    "        image = np.transpose(image, (2,0,1))\n",
    "    except:\n",
    "        return []\n",
    "    return image\n",
    "\n",
    "def load_image_LAB(path):\n",
    "    try:\n",
    "        DATA_PATH = './train2017/'\n",
    "        image = color.rgb2lab(resize(imread(DATA_PATH + path), (256, 256)))\n",
    "        image = np.transpose(image, (2,0,1))\n",
    "    except:\n",
    "        return []\n",
    "    return image"
   ]
  },
  {
   "cell_type": "code",
   "execution_count": null,
   "metadata": {
    "id": "T4bTTZcmJKkC"
   },
   "outputs": [],
   "source": [
    "class COCODataset(torch.utils.data.Dataset):\n",
    "    def __init__(self, Image, Refrence, transform):\n",
    "        self.Image = Image\n",
    "        self.Refrence = Refrence\n",
    "        self.transform = transform\n",
    "    def __len__(self):\n",
    "        return len(self.Image)\n",
    "    def __getitem__(self, index):\n",
    "        i = torch.tensor(load_image(self.Image[index]))\n",
    "        r = torch.tensor(load_image(self.Refrence[index]))\n",
    "        if len(i.shape) != 3 or len(r.shape) != 3:\n",
    "            print('picture problem!!!!!!!!!!!!!!!!!!!!!!!!')\n",
    "            i = torch.tensor(load_image('000000004704.jpg'))\n",
    "            r = torch.tensor(load_image('000000332990.jpg'))\n",
    "        i = self.transform(i)\n",
    "        r = self.transform(r)\n",
    "        return i, r"
   ]
  },
  {
   "cell_type": "code",
   "execution_count": null,
   "metadata": {
    "id": "d4SI_lxRsu-Y"
   },
   "outputs": [],
   "source": [
    "class COCODataset_FullTrain(torch.utils.data.Dataset):\n",
    "    def __init__(self, Image, Refrence, transform):\n",
    "        self.Image = Image\n",
    "        self.Refrence = Refrence\n",
    "        self.transform = transform\n",
    "    def __len__(self):\n",
    "        return len(self.Image)\n",
    "    def __getitem__(self, index):\n",
    "        try:\n",
    "            inputImg = torch.tensor(load_image_LAB(self.Image[index]))[0]\n",
    "            refImg = torch.tensor(load_image_LAB(self.Refrence[index]))\n",
    "            img_gt = torch.tensor(load_image_LAB(self.Image[index]))\n",
    "        except:\n",
    "            print('picture problem!')\n",
    "            inputImg = torch.tensor(load_image_LAB('000000004704.jpg'))[0]\n",
    "            refImg = torch.tensor(load_image('000000332990.jpg'))\n",
    "            img_gt = torch.tensor(load_image_LAB('000000004704.jpg'))\n",
    "        if len(img_gt.shape) != 3 or len(refImg.shape) != 3:\n",
    "            print('picture problem!')\n",
    "            inputImg = torch.tensor(load_image_LAB('000000004704.jpg'))[0]\n",
    "            refImg = torch.tensor(load_image('000000332990.jpg'))\n",
    "            img_gt = torch.tensor(load_image_LAB('000000004704.jpg'))\n",
    "\n",
    "        inputImg = inputImg\n",
    "        refImg = self.transform(refImg)\n",
    "        img_gt = self.transform(img_gt)\n",
    "        return inputImg, refImg, img_gt"
   ]
  },
  {
   "cell_type": "code",
   "execution_count": null,
   "metadata": {
    "id": "EZ-945PtJj_1"
   },
   "outputs": [],
   "source": [
    "trans = T.Compose([\n",
    "          T.Normalize([0.485, 0.456, 0.406], [0.229, 0.224, 0.225])\n",
    "      ])"
   ]
  }
 ],
 "metadata": {
  "colab": {
   "collapsed_sections": [],
   "name": "data_prep.ipynb",
   "provenance": []
  },
  "kernelspec": {
   "display_name": "Python 3",
   "language": "python",
   "name": "python3"
  },
  "language_info": {
   "codemirror_mode": {
    "name": "ipython",
    "version": 3
   },
   "file_extension": ".py",
   "mimetype": "text/x-python",
   "name": "python",
   "nbconvert_exporter": "python",
   "pygments_lexer": "ipython3",
   "version": "3.9.1"
  }
 },
 "nbformat": 4,
 "nbformat_minor": 1
}
